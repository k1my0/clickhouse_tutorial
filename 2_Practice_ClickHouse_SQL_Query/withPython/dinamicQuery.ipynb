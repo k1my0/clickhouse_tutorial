{
 "cells": [
  {
   "cell_type": "markdown",
   "metadata": {},
   "source": [
    "# 반복되는 쿼리문 작성"
   ]
  },
  {
   "cell_type": "code",
   "execution_count": null,
   "metadata": {},
   "outputs": [],
   "source": []
  },
  {
   "cell_type": "code",
   "execution_count": 6,
   "metadata": {},
   "outputs": [],
   "source": [
    "# database에 여러 테이블의 결과를 사용할 수 있음\n",
    "\n",
    "# tables \n",
    "tables = ['tbl_conn_log',\n",
    " 'tbl_dns_log',\n",
    " 'tbl_file_log',\n",
    " 'tbl_http_log',\n",
    " 'tbl_notice_log',\n",
    " 'tbl_smb_files_log',\n",
    " 'tbl_smb_mapping_log',\n",
    " 'tbl_ssh_log',\n",
    " 'tbl_ssl_log']"
   ]
  },
  {
   "cell_type": "markdown",
   "metadata": {},
   "source": [
    "# 1. 여러 테이블에서 결과 확인하기\n",
    "* for문을 돌면서 결과를 출력하는 코드"
   ]
  },
  {
   "cell_type": "code",
   "execution_count": null,
   "metadata": {},
   "outputs": [],
   "source": [
    "# '%IoT_Dataset%' 데이터셋이 있는 경우를 확인\n",
    "\n",
    "sql = \"\"\"\n",
    "select count() as cnt\n",
    "from database.{table}\n",
    "\n",
    "\"\"\"\n",
    "\n",
    "new_df = pd.DataFrame()\n",
    "for i in tables:\n",
    "    df, meta = client.execute(sql.format(table=i), with_column_types=True)\n",
    "    df = list(df[0])\n",
    "    df.insert(0, i)\n",
    "    df = [tuple(df)]\n",
    "    feats = [meta[idx][0] for idx, m in enumerate(meta)]\n",
    "    feats.insert(0, 'table name')\n",
    "    new_df = new_df.append(pd.DataFrame(df, columns=feats),  ignore_index=True)"
   ]
  },
  {
   "cell_type": "markdown",
   "metadata": {},
   "source": [
    "```markdown\n",
    "|   | table name         | cnt |\n",
    "|---|--------------------|-----------------|\n",
    "| 0 | tbl_conn_log    | 100       |\n",
    "| 1 | tbl_dce_rpc_log | 0               |\n",
    "| 2 | tbl_dns_log     | 90           |\n",
    "| 3 | tbl_file_log    | 8          |\n",
    "| 4 | tbl_ftp_log     | 0               |\n",
    "```"
   ]
  },
  {
   "cell_type": "markdown",
   "metadata": {},
   "source": [
    "# 1. Union 쿼리문 작성"
   ]
  },
  {
   "cell_type": "code",
   "execution_count": 5,
   "metadata": {},
   "outputs": [],
   "source": [
    "# 날짜별로 데이터셋 끌어오기 \n",
    "\n",
    "day = '20180515'\n",
    "\n",
    "# make query\n",
    "\n",
    "sql = \"\"\"\n",
    "with \n",
    "    logtime - (60*60*9) as utc_time\n",
    "select utc_time, logtime, src_ip, dst_ip, '{log}' as log\n",
    "from database.{table}\n",
    "where toYYYYMMDD(utc_time) == {day}\n",
    "\"\"\"\n",
    "\n",
    "union='UNION ALL'.join([sql.format(day = day,\n",
    "                                   table=t, \n",
    "                                   log=t.split('tbl_')[1]) for t in tables])\n",
    "\n",
    "union_sql = \"\"\"\n",
    "select *\n",
    "from\n",
    "(\n",
    "{union}\n",
    ")\n",
    "\"\"\""
   ]
  },
  {
   "cell_type": "code",
   "execution_count": 4,
   "metadata": {},
   "outputs": [
    {
     "name": "stdout",
     "output_type": "stream",
     "text": [
      "\n",
      "select *\n",
      "from\n",
      "(\n",
      "\n",
      "with \n",
      "    logtime - (60*60*9) as utc_time\n",
      "select utc_time, logtime, src_ip, dst_ip, 'conn_log' as log\n",
      "from database.tbl_conn_log\n",
      "where toYYYYMMDD(utc_time) == 20180515 and hash like '%IoT_Dataset%'\n",
      "UNION ALL\n",
      "with \n",
      "    logtime - (60*60*9) as utc_time\n",
      "select utc_time, logtime, src_ip, dst_ip, 'dns_log' as log\n",
      "from database.tbl_dns_log\n",
      "where toYYYYMMDD(utc_time) == 20180515 and hash like '%IoT_Dataset%'\n",
      "UNION ALL\n",
      "with \n",
      "    logtime - (60*60*9) as utc_time\n",
      "select utc_time, logtime, src_ip, dst_ip, 'file_log' as log\n",
      "from database.tbl_file_log\n",
      "where toYYYYMMDD(utc_time) == 20180515 and hash like '%IoT_Dataset%'\n",
      "UNION ALL\n",
      "with \n",
      "    logtime - (60*60*9) as utc_time\n",
      "select utc_time, logtime, src_ip, dst_ip, 'http_log' as log\n",
      "from database.tbl_http_log\n",
      "where toYYYYMMDD(utc_time) == 20180515 and hash like '%IoT_Dataset%'\n",
      "UNION ALL\n",
      "with \n",
      "    logtime - (60*60*9) as utc_time\n",
      "select utc_time, logtime, src_ip, dst_ip, 'notice_log' as log\n",
      "from database.tbl_notice_log\n",
      "where toYYYYMMDD(utc_time) == 20180515 and hash like '%IoT_Dataset%'\n",
      "UNION ALL\n",
      "with \n",
      "    logtime - (60*60*9) as utc_time\n",
      "select utc_time, logtime, src_ip, dst_ip, 'smb_files_log' as log\n",
      "from database.tbl_smb_files_log\n",
      "where toYYYYMMDD(utc_time) == 20180515 and hash like '%IoT_Dataset%'\n",
      "UNION ALL\n",
      "with \n",
      "    logtime - (60*60*9) as utc_time\n",
      "select utc_time, logtime, src_ip, dst_ip, 'smb_mapping_log' as log\n",
      "from database.tbl_smb_mapping_log\n",
      "where toYYYYMMDD(utc_time) == 20180515 and hash like '%IoT_Dataset%'\n",
      "UNION ALL\n",
      "with \n",
      "    logtime - (60*60*9) as utc_time\n",
      "select utc_time, logtime, src_ip, dst_ip, 'ssh_log' as log\n",
      "from database.tbl_ssh_log\n",
      "where toYYYYMMDD(utc_time) == 20180515 and hash like '%IoT_Dataset%'\n",
      "UNION ALL\n",
      "with \n",
      "    logtime - (60*60*9) as utc_time\n",
      "select utc_time, logtime, src_ip, dst_ip, 'ssl_log' as log\n",
      "from database.tbl_ssl_log\n",
      "where toYYYYMMDD(utc_time) == 20180515 and hash like '%IoT_Dataset%'\n",
      "\n",
      ")\n",
      "\n"
     ]
    }
   ],
   "source": [
    "print(union_sql.format(union=union))"
   ]
  },
  {
   "cell_type": "markdown",
   "metadata": {},
   "source": [
    "# 2. 여러개 테이블과 여러개의 Feature 동적 쿼리 구성"
   ]
  },
  {
   "cell_type": "code",
   "execution_count": 8,
   "metadata": {},
   "outputs": [
    {
     "ename": "NameError",
     "evalue": "name 'client' is not defined",
     "output_type": "error",
     "traceback": [
      "\u001b[0;31m---------------------------------------------------------------------------\u001b[0m",
      "\u001b[0;31mNameError\u001b[0m                                 Traceback (most recent call last)",
      "\u001b[0;32m<ipython-input-8-ed0378622387>\u001b[0m in \u001b[0;36m<module>\u001b[0;34m\u001b[0m\n\u001b[1;32m      2\u001b[0m     \u001b[0mACTIVE_TABLE\u001b[0m \u001b[0;34m=\u001b[0m \u001b[0;34m'database.tbl_{}'\u001b[0m\u001b[0;34m.\u001b[0m\u001b[0mformat\u001b[0m\u001b[0;34m(\u001b[0m\u001b[0mstr\u001b[0m\u001b[0;34m(\u001b[0m\u001b[0mmid\u001b[0m\u001b[0;34m)\u001b[0m\u001b[0;34m)\u001b[0m\u001b[0;34m\u001b[0m\u001b[0;34m\u001b[0m\u001b[0m\n\u001b[1;32m      3\u001b[0m     \u001b[0;34m[\u001b[0m\u001b[0mdatabase\u001b[0m\u001b[0;34m,\u001b[0m \u001b[0mtable\u001b[0m\u001b[0;34m]\u001b[0m \u001b[0;34m=\u001b[0m \u001b[0mACTIVE_TABLE\u001b[0m\u001b[0;34m.\u001b[0m\u001b[0msplit\u001b[0m\u001b[0;34m(\u001b[0m\u001b[0;34m'.'\u001b[0m\u001b[0;34m)\u001b[0m\u001b[0;34m\u001b[0m\u001b[0;34m\u001b[0m\u001b[0m\n\u001b[0;32m----> 4\u001b[0;31m     \u001b[0mmeta\u001b[0m \u001b[0;34m=\u001b[0m \u001b[0mclient\u001b[0m\u001b[0;34m.\u001b[0m\u001b[0mexecute\u001b[0m\u001b[0;34m(\u001b[0m\u001b[0;34m\"\"\"SELECT name FROM system.columns WHERE database = '{}' AND table='{}' \"\"\"\u001b[0m\u001b[0;34m.\u001b[0m\u001b[0mformat\u001b[0m\u001b[0;34m(\u001b[0m\u001b[0mdatabase\u001b[0m\u001b[0;34m,\u001b[0m \u001b[0mtable\u001b[0m\u001b[0;34m)\u001b[0m\u001b[0;34m)\u001b[0m\u001b[0;34m\u001b[0m\u001b[0;34m\u001b[0m\u001b[0m\n\u001b[0m\u001b[1;32m      5\u001b[0m     \u001b[0mprint\u001b[0m\u001b[0;34m(\u001b[0m\u001b[0mmeta\u001b[0m\u001b[0;34m)\u001b[0m\u001b[0;34m\u001b[0m\u001b[0;34m\u001b[0m\u001b[0m\n\u001b[1;32m      6\u001b[0m     \u001b[0mfeats\u001b[0m \u001b[0;34m=\u001b[0m \u001b[0mnp\u001b[0m\u001b[0;34m.\u001b[0m\u001b[0marray\u001b[0m\u001b[0;34m(\u001b[0m\u001b[0;34m[\u001b[0m\u001b[0mname\u001b[0m\u001b[0;34m[\u001b[0m\u001b[0;36m0\u001b[0m\u001b[0;34m]\u001b[0m \u001b[0;32mfor\u001b[0m \u001b[0mname\u001b[0m \u001b[0;32min\u001b[0m \u001b[0mmeta\u001b[0m\u001b[0;34m]\u001b[0m\u001b[0;34m)\u001b[0m\u001b[0;34m[\u001b[0m\u001b[0;36m11\u001b[0m\u001b[0;34m:\u001b[0m\u001b[0;34m]\u001b[0m\u001b[0;34m\u001b[0m\u001b[0;34m\u001b[0m\u001b[0m\n",
      "\u001b[0;31mNameError\u001b[0m: name 'client' is not defined"
     ]
    }
   ],
   "source": [
    "for mid in [100, 101, 102, 103, 104, 105]:\n",
    "    ACTIVE_TABLE = 'database.tbl_{}'.format(str(mid))\n",
    "    [database, table] = ACTIVE_TABLE.split('.')\n",
    "    meta = client.execute(\"\"\"SELECT name FROM system.columns WHERE database = '{}' AND table='{}' \"\"\".format(database, table))\n",
    "    print(meta)\n",
    "    feats = np.array([name[0] for name in meta])[11:]\n",
    "    \n",
    "    print(\"=============================\")\n",
    "    print(\"{} 테이블의 동적 쿼리 구성\".format(mid))\n",
    "    sql = \"\"\"\n",
    "    select key, max_val\n",
    "    from(\n",
    "    select ['{feats}'] as key,\n",
    "            [{max_val}] as max_val\n",
    "    from {xai_table}\n",
    "     where  \n",
    "        minutes >= '{start_time}' and minutes <= '{end_time}'\n",
    "        and att_name == '{att_name}'\n",
    "        and src_ip == '{src_ip}'\n",
    "    ) array join key, max_val\n",
    "    order by max_val desc\n",
    "    \"\"\".format(\n",
    "        feats=\"','\".join(feats),\n",
    "        max_val = ','.join(['max('+f+')' for f in feats]),\n",
    "        start_time = \"{START_TIME}\",\n",
    "        end_time = \"{END_TIME}\",\n",
    "        where_value = \"{WHERE_VALUE}\",\n",
    "        xai_table = XAI_TABLE,\n",
    "        att_name = \"{ATT_NAME}\",\n",
    "        src_ip = \"{SRC_IP}\",\n",
    "        sample_size = 1000\n",
    "        \n",
    "    )\n",
    "\n",
    "\n",
    "    print(sql)"
   ]
  },
  {
   "cell_type": "code",
   "execution_count": null,
   "metadata": {},
   "outputs": [],
   "source": []
  }
 ],
 "metadata": {
  "kernelspec": {
   "display_name": "Python 3",
   "language": "python",
   "name": "python3"
  },
  "language_info": {
   "codemirror_mode": {
    "name": "ipython",
    "version": 3
   },
   "file_extension": ".py",
   "mimetype": "text/x-python",
   "name": "python",
   "nbconvert_exporter": "python",
   "pygments_lexer": "ipython3",
   "version": "3.7.6"
  }
 },
 "nbformat": 4,
 "nbformat_minor": 2
}
